{
  "cells": [
    {
      "cell_type": "markdown",
      "metadata": {
        "id": "ST0a1CZb1M-j"
      },
      "source": [
        "\n",
        "## EXERCICE 4 : Utilisation de Pandas et sklearn pour l'analyse de données réelles\n",
        "\n"
      ]
    },
    {
      "cell_type": "code",
      "execution_count": 12,
      "metadata": {
        "id": "y35Q3GUA1M-m"
      },
      "outputs": [],
      "source": [
        "import pandas as pd\n",
        "import numpy as np\n",
        "import matplotlib.pyplot as plt\n",
        "from sklearn import preprocessing\n",
        "from sklearn import linear_model\n",
        "from sklearn.metrics import mean_squared_error\n",
        "import matplotlib.pyplot as plt"
      ]
    },
    {
      "cell_type": "markdown",
      "metadata": {
        "id": "19EKxf8Y1M-n"
      },
      "source": [
        "### Question 1 : \n",
        "- utiliser la fonction pandas.read_csv avec les bonnes options pour charger le fichier RealMedicalData.csv. On remarquera que le separateur dans le fichier csv est ';' et que les decimales sont representees par des virgules et non des points. Il est important de remarquer qu'un dataframe et non un numpy array sera retourne. Cette classe contient l'equivalent d'un numpy.array mais aussi le nom des lignes et colonnes, tout comme dans les dataframes de R\n",
        "- Extraire deux numpy.arrays X et y des donnes pour faire par la suite de la regression. Nous allons essayer d'expliquer  'Disease progression' avec les autres variables. Ce sera alors la colonne qui contient y. Les autres colonnes contiendront les donnees de X.\n",
        "- Une fois X et y extrait, centrer et reduire X. La fonction sklearn.preprocessing.scale pourra etre utilisee\n"
      ]
    },
    {
      "cell_type": "code",
      "execution_count": 7,
      "metadata": {
        "colab": {
          "base_uri": "https://localhost:8080/",
          "height": 522
        },
        "id": "BQUiuuez1M-o",
        "outputId": "431b411a-dd24-45f3-f429-4b55b80b98e2"
      },
      "outputs": [
        {
          "output_type": "execute_result",
          "data": {
            "text/plain": [
              "    Acid 1 density  Acid 2 density  Acid 3 density  Cells 1 density  \\\n",
              "0             11.6             6.4            4.30              7.2   \n",
              "1             15.5            10.5            4.90              6.9   \n",
              "2             15.3             6.5            4.20              6.4   \n",
              "3             13.4             7.7            4.10              5.8   \n",
              "4             16.0             5.2            3.20              5.7   \n",
              "..             ...             ...             ...              ...   \n",
              "61             8.9             4.8            3.45              5.6   \n",
              "62            18.2             5.1            3.78              5.9   \n",
              "63            21.0            10.3            7.00              6.6   \n",
              "64            11.0             4.8            3.86              5.6   \n",
              "65            18.5             5.0            3.49              5.8   \n",
              "\n",
              "    Cells 2 density  Pressure 1  Pressure 2  Bio-marker 1  Bio-marker 2  \\\n",
              "0              14.4       19.26       39.32         50.00     13.040000   \n",
              "1              13.7        8.57       36.78         22.57     18.713333   \n",
              "2              13.6       13.48       25.90          8.25      8.246667   \n",
              "3              14.2       15.23       44.36         11.09     11.093333   \n",
              "4              12.8        8.37       19.62          7.44      6.386667   \n",
              "..              ...         ...         ...           ...           ...   \n",
              "61             13.5        9.18       41.71         50.00     18.213333   \n",
              "62             13.5       11.44       33.50         42.34     11.293333   \n",
              "63             10.8        5.78       14.53         11.09      5.460000   \n",
              "64             13.0        7.52       20.38          9.17      7.453333   \n",
              "65             12.7        9.78       33.59         16.13     15.053333   \n",
              "\n",
              "    Biomarker 3  Biomarker 4  Biomarker 5  Biomarker 6  Biomarker 6.1  \\\n",
              "0          0.20       0.0440         2.44        2.209           9.02   \n",
              "1          0.51       0.8501         2.32        0.339          22.43   \n",
              "2          0.27       0.9629         2.83        0.339          17.94   \n",
              "3          0.67      -0.2756         5.06        1.611          11.38   \n",
              "4          0.24      -0.6928         1.59        0.659           8.56   \n",
              "..          ...          ...          ...          ...            ...   \n",
              "61         0.01       0.9721         1.00        0.820          12.66   \n",
              "62         0.05       0.5524         2.45        1.384          34.88   \n",
              "63         0.01       0.9468         2.04        1.403          21.92   \n",
              "64         0.19       0.6871         1.92        1.006          11.49   \n",
              "65         0.35       0.9937         2.47        0.443           9.95   \n",
              "\n",
              "    Biomarker 7  Biomarker 8  Biomarker 9  Biomarker 10  Disease progression  \n",
              "0          0.26         1.23         3.56         16.91                    6  \n",
              "1          0.10         0.56         7.06         -3.47                    6  \n",
              "2          0.13         0.59         3.20         10.05                   10  \n",
              "3          0.20         0.88         4.33         -3.62                   18  \n",
              "4          0.27         1.20         4.57          1.56                    7  \n",
              "..          ...          ...          ...           ...                  ...  \n",
              "61         0.18         0.28         5.44          6.14                    6  \n",
              "62         0.07         2.19         6.75          1.75                   10  \n",
              "63         0.11         0.76         2.37          1.97                   13  \n",
              "64         0.20         0.51         2.34          2.11                   11  \n",
              "65         0.23         0.48         4.01          1.99                    8  \n",
              "\n",
              "[66 rows x 19 columns]"
            ],
            "text/html": [
              "\n",
              "  <div id=\"df-fe341575-ac0f-4ef9-b5f9-6a253b34b22d\">\n",
              "    <div class=\"colab-df-container\">\n",
              "      <div>\n",
              "<style scoped>\n",
              "    .dataframe tbody tr th:only-of-type {\n",
              "        vertical-align: middle;\n",
              "    }\n",
              "\n",
              "    .dataframe tbody tr th {\n",
              "        vertical-align: top;\n",
              "    }\n",
              "\n",
              "    .dataframe thead th {\n",
              "        text-align: right;\n",
              "    }\n",
              "</style>\n",
              "<table border=\"1\" class=\"dataframe\">\n",
              "  <thead>\n",
              "    <tr style=\"text-align: right;\">\n",
              "      <th></th>\n",
              "      <th>Acid 1 density</th>\n",
              "      <th>Acid 2 density</th>\n",
              "      <th>Acid 3 density</th>\n",
              "      <th>Cells 1 density</th>\n",
              "      <th>Cells 2 density</th>\n",
              "      <th>Pressure 1</th>\n",
              "      <th>Pressure 2</th>\n",
              "      <th>Bio-marker 1</th>\n",
              "      <th>Bio-marker 2</th>\n",
              "      <th>Biomarker 3</th>\n",
              "      <th>Biomarker 4</th>\n",
              "      <th>Biomarker 5</th>\n",
              "      <th>Biomarker 6</th>\n",
              "      <th>Biomarker 6.1</th>\n",
              "      <th>Biomarker 7</th>\n",
              "      <th>Biomarker 8</th>\n",
              "      <th>Biomarker 9</th>\n",
              "      <th>Biomarker 10</th>\n",
              "      <th>Disease progression</th>\n",
              "    </tr>\n",
              "  </thead>\n",
              "  <tbody>\n",
              "    <tr>\n",
              "      <th>0</th>\n",
              "      <td>11.6</td>\n",
              "      <td>6.4</td>\n",
              "      <td>4.30</td>\n",
              "      <td>7.2</td>\n",
              "      <td>14.4</td>\n",
              "      <td>19.26</td>\n",
              "      <td>39.32</td>\n",
              "      <td>50.00</td>\n",
              "      <td>13.040000</td>\n",
              "      <td>0.20</td>\n",
              "      <td>0.0440</td>\n",
              "      <td>2.44</td>\n",
              "      <td>2.209</td>\n",
              "      <td>9.02</td>\n",
              "      <td>0.26</td>\n",
              "      <td>1.23</td>\n",
              "      <td>3.56</td>\n",
              "      <td>16.91</td>\n",
              "      <td>6</td>\n",
              "    </tr>\n",
              "    <tr>\n",
              "      <th>1</th>\n",
              "      <td>15.5</td>\n",
              "      <td>10.5</td>\n",
              "      <td>4.90</td>\n",
              "      <td>6.9</td>\n",
              "      <td>13.7</td>\n",
              "      <td>8.57</td>\n",
              "      <td>36.78</td>\n",
              "      <td>22.57</td>\n",
              "      <td>18.713333</td>\n",
              "      <td>0.51</td>\n",
              "      <td>0.8501</td>\n",
              "      <td>2.32</td>\n",
              "      <td>0.339</td>\n",
              "      <td>22.43</td>\n",
              "      <td>0.10</td>\n",
              "      <td>0.56</td>\n",
              "      <td>7.06</td>\n",
              "      <td>-3.47</td>\n",
              "      <td>6</td>\n",
              "    </tr>\n",
              "    <tr>\n",
              "      <th>2</th>\n",
              "      <td>15.3</td>\n",
              "      <td>6.5</td>\n",
              "      <td>4.20</td>\n",
              "      <td>6.4</td>\n",
              "      <td>13.6</td>\n",
              "      <td>13.48</td>\n",
              "      <td>25.90</td>\n",
              "      <td>8.25</td>\n",
              "      <td>8.246667</td>\n",
              "      <td>0.27</td>\n",
              "      <td>0.9629</td>\n",
              "      <td>2.83</td>\n",
              "      <td>0.339</td>\n",
              "      <td>17.94</td>\n",
              "      <td>0.13</td>\n",
              "      <td>0.59</td>\n",
              "      <td>3.20</td>\n",
              "      <td>10.05</td>\n",
              "      <td>10</td>\n",
              "    </tr>\n",
              "    <tr>\n",
              "      <th>3</th>\n",
              "      <td>13.4</td>\n",
              "      <td>7.7</td>\n",
              "      <td>4.10</td>\n",
              "      <td>5.8</td>\n",
              "      <td>14.2</td>\n",
              "      <td>15.23</td>\n",
              "      <td>44.36</td>\n",
              "      <td>11.09</td>\n",
              "      <td>11.093333</td>\n",
              "      <td>0.67</td>\n",
              "      <td>-0.2756</td>\n",
              "      <td>5.06</td>\n",
              "      <td>1.611</td>\n",
              "      <td>11.38</td>\n",
              "      <td>0.20</td>\n",
              "      <td>0.88</td>\n",
              "      <td>4.33</td>\n",
              "      <td>-3.62</td>\n",
              "      <td>18</td>\n",
              "    </tr>\n",
              "    <tr>\n",
              "      <th>4</th>\n",
              "      <td>16.0</td>\n",
              "      <td>5.2</td>\n",
              "      <td>3.20</td>\n",
              "      <td>5.7</td>\n",
              "      <td>12.8</td>\n",
              "      <td>8.37</td>\n",
              "      <td>19.62</td>\n",
              "      <td>7.44</td>\n",
              "      <td>6.386667</td>\n",
              "      <td>0.24</td>\n",
              "      <td>-0.6928</td>\n",
              "      <td>1.59</td>\n",
              "      <td>0.659</td>\n",
              "      <td>8.56</td>\n",
              "      <td>0.27</td>\n",
              "      <td>1.20</td>\n",
              "      <td>4.57</td>\n",
              "      <td>1.56</td>\n",
              "      <td>7</td>\n",
              "    </tr>\n",
              "    <tr>\n",
              "      <th>...</th>\n",
              "      <td>...</td>\n",
              "      <td>...</td>\n",
              "      <td>...</td>\n",
              "      <td>...</td>\n",
              "      <td>...</td>\n",
              "      <td>...</td>\n",
              "      <td>...</td>\n",
              "      <td>...</td>\n",
              "      <td>...</td>\n",
              "      <td>...</td>\n",
              "      <td>...</td>\n",
              "      <td>...</td>\n",
              "      <td>...</td>\n",
              "      <td>...</td>\n",
              "      <td>...</td>\n",
              "      <td>...</td>\n",
              "      <td>...</td>\n",
              "      <td>...</td>\n",
              "      <td>...</td>\n",
              "    </tr>\n",
              "    <tr>\n",
              "      <th>61</th>\n",
              "      <td>8.9</td>\n",
              "      <td>4.8</td>\n",
              "      <td>3.45</td>\n",
              "      <td>5.6</td>\n",
              "      <td>13.5</td>\n",
              "      <td>9.18</td>\n",
              "      <td>41.71</td>\n",
              "      <td>50.00</td>\n",
              "      <td>18.213333</td>\n",
              "      <td>0.01</td>\n",
              "      <td>0.9721</td>\n",
              "      <td>1.00</td>\n",
              "      <td>0.820</td>\n",
              "      <td>12.66</td>\n",
              "      <td>0.18</td>\n",
              "      <td>0.28</td>\n",
              "      <td>5.44</td>\n",
              "      <td>6.14</td>\n",
              "      <td>6</td>\n",
              "    </tr>\n",
              "    <tr>\n",
              "      <th>62</th>\n",
              "      <td>18.2</td>\n",
              "      <td>5.1</td>\n",
              "      <td>3.78</td>\n",
              "      <td>5.9</td>\n",
              "      <td>13.5</td>\n",
              "      <td>11.44</td>\n",
              "      <td>33.50</td>\n",
              "      <td>42.34</td>\n",
              "      <td>11.293333</td>\n",
              "      <td>0.05</td>\n",
              "      <td>0.5524</td>\n",
              "      <td>2.45</td>\n",
              "      <td>1.384</td>\n",
              "      <td>34.88</td>\n",
              "      <td>0.07</td>\n",
              "      <td>2.19</td>\n",
              "      <td>6.75</td>\n",
              "      <td>1.75</td>\n",
              "      <td>10</td>\n",
              "    </tr>\n",
              "    <tr>\n",
              "      <th>63</th>\n",
              "      <td>21.0</td>\n",
              "      <td>10.3</td>\n",
              "      <td>7.00</td>\n",
              "      <td>6.6</td>\n",
              "      <td>10.8</td>\n",
              "      <td>5.78</td>\n",
              "      <td>14.53</td>\n",
              "      <td>11.09</td>\n",
              "      <td>5.460000</td>\n",
              "      <td>0.01</td>\n",
              "      <td>0.9468</td>\n",
              "      <td>2.04</td>\n",
              "      <td>1.403</td>\n",
              "      <td>21.92</td>\n",
              "      <td>0.11</td>\n",
              "      <td>0.76</td>\n",
              "      <td>2.37</td>\n",
              "      <td>1.97</td>\n",
              "      <td>13</td>\n",
              "    </tr>\n",
              "    <tr>\n",
              "      <th>64</th>\n",
              "      <td>11.0</td>\n",
              "      <td>4.8</td>\n",
              "      <td>3.86</td>\n",
              "      <td>5.6</td>\n",
              "      <td>13.0</td>\n",
              "      <td>7.52</td>\n",
              "      <td>20.38</td>\n",
              "      <td>9.17</td>\n",
              "      <td>7.453333</td>\n",
              "      <td>0.19</td>\n",
              "      <td>0.6871</td>\n",
              "      <td>1.92</td>\n",
              "      <td>1.006</td>\n",
              "      <td>11.49</td>\n",
              "      <td>0.20</td>\n",
              "      <td>0.51</td>\n",
              "      <td>2.34</td>\n",
              "      <td>2.11</td>\n",
              "      <td>11</td>\n",
              "    </tr>\n",
              "    <tr>\n",
              "      <th>65</th>\n",
              "      <td>18.5</td>\n",
              "      <td>5.0</td>\n",
              "      <td>3.49</td>\n",
              "      <td>5.8</td>\n",
              "      <td>12.7</td>\n",
              "      <td>9.78</td>\n",
              "      <td>33.59</td>\n",
              "      <td>16.13</td>\n",
              "      <td>15.053333</td>\n",
              "      <td>0.35</td>\n",
              "      <td>0.9937</td>\n",
              "      <td>2.47</td>\n",
              "      <td>0.443</td>\n",
              "      <td>9.95</td>\n",
              "      <td>0.23</td>\n",
              "      <td>0.48</td>\n",
              "      <td>4.01</td>\n",
              "      <td>1.99</td>\n",
              "      <td>8</td>\n",
              "    </tr>\n",
              "  </tbody>\n",
              "</table>\n",
              "<p>66 rows × 19 columns</p>\n",
              "</div>\n",
              "      <button class=\"colab-df-convert\" onclick=\"convertToInteractive('df-fe341575-ac0f-4ef9-b5f9-6a253b34b22d')\"\n",
              "              title=\"Convert this dataframe to an interactive table.\"\n",
              "              style=\"display:none;\">\n",
              "        \n",
              "  <svg xmlns=\"http://www.w3.org/2000/svg\" height=\"24px\"viewBox=\"0 0 24 24\"\n",
              "       width=\"24px\">\n",
              "    <path d=\"M0 0h24v24H0V0z\" fill=\"none\"/>\n",
              "    <path d=\"M18.56 5.44l.94 2.06.94-2.06 2.06-.94-2.06-.94-.94-2.06-.94 2.06-2.06.94zm-11 1L8.5 8.5l.94-2.06 2.06-.94-2.06-.94L8.5 2.5l-.94 2.06-2.06.94zm10 10l.94 2.06.94-2.06 2.06-.94-2.06-.94-.94-2.06-.94 2.06-2.06.94z\"/><path d=\"M17.41 7.96l-1.37-1.37c-.4-.4-.92-.59-1.43-.59-.52 0-1.04.2-1.43.59L10.3 9.45l-7.72 7.72c-.78.78-.78 2.05 0 2.83L4 21.41c.39.39.9.59 1.41.59.51 0 1.02-.2 1.41-.59l7.78-7.78 2.81-2.81c.8-.78.8-2.07 0-2.86zM5.41 20L4 18.59l7.72-7.72 1.47 1.35L5.41 20z\"/>\n",
              "  </svg>\n",
              "      </button>\n",
              "      \n",
              "  <style>\n",
              "    .colab-df-container {\n",
              "      display:flex;\n",
              "      flex-wrap:wrap;\n",
              "      gap: 12px;\n",
              "    }\n",
              "\n",
              "    .colab-df-convert {\n",
              "      background-color: #E8F0FE;\n",
              "      border: none;\n",
              "      border-radius: 50%;\n",
              "      cursor: pointer;\n",
              "      display: none;\n",
              "      fill: #1967D2;\n",
              "      height: 32px;\n",
              "      padding: 0 0 0 0;\n",
              "      width: 32px;\n",
              "    }\n",
              "\n",
              "    .colab-df-convert:hover {\n",
              "      background-color: #E2EBFA;\n",
              "      box-shadow: 0px 1px 2px rgba(60, 64, 67, 0.3), 0px 1px 3px 1px rgba(60, 64, 67, 0.15);\n",
              "      fill: #174EA6;\n",
              "    }\n",
              "\n",
              "    [theme=dark] .colab-df-convert {\n",
              "      background-color: #3B4455;\n",
              "      fill: #D2E3FC;\n",
              "    }\n",
              "\n",
              "    [theme=dark] .colab-df-convert:hover {\n",
              "      background-color: #434B5C;\n",
              "      box-shadow: 0px 1px 3px 1px rgba(0, 0, 0, 0.15);\n",
              "      filter: drop-shadow(0px 1px 2px rgba(0, 0, 0, 0.3));\n",
              "      fill: #FFFFFF;\n",
              "    }\n",
              "  </style>\n",
              "\n",
              "      <script>\n",
              "        const buttonEl =\n",
              "          document.querySelector('#df-fe341575-ac0f-4ef9-b5f9-6a253b34b22d button.colab-df-convert');\n",
              "        buttonEl.style.display =\n",
              "          google.colab.kernel.accessAllowed ? 'block' : 'none';\n",
              "\n",
              "        async function convertToInteractive(key) {\n",
              "          const element = document.querySelector('#df-fe341575-ac0f-4ef9-b5f9-6a253b34b22d');\n",
              "          const dataTable =\n",
              "            await google.colab.kernel.invokeFunction('convertToInteractive',\n",
              "                                                     [key], {});\n",
              "          if (!dataTable) return;\n",
              "\n",
              "          const docLinkHtml = 'Like what you see? Visit the ' +\n",
              "            '<a target=\"_blank\" href=https://colab.research.google.com/notebooks/data_table.ipynb>data table notebook</a>'\n",
              "            + ' to learn more about interactive tables.';\n",
              "          element.innerHTML = '';\n",
              "          dataTable['output_type'] = 'display_data';\n",
              "          await google.colab.output.renderOutput(dataTable, element);\n",
              "          const docLink = document.createElement('div');\n",
              "          docLink.innerHTML = docLinkHtml;\n",
              "          element.appendChild(docLink);\n",
              "        }\n",
              "      </script>\n",
              "    </div>\n",
              "  </div>\n",
              "  "
            ]
          },
          "metadata": {},
          "execution_count": 7
        }
      ],
      "source": [
        "data_medic=pd.read_csv(\"/RealMedicalData.csv\",sep=\";\",decimal=\",\")\n",
        "data_medic"
      ]
    },
    {
      "cell_type": "code",
      "source": [
        "X=data_medic.iloc[:,:17].to_numpy()\n",
        "Y=data_medic['Disease progression'].to_numpy()"
      ],
      "metadata": {
        "id": "KveKism65Sh5"
      },
      "execution_count": 8,
      "outputs": []
    },
    {
      "cell_type": "code",
      "source": [
        "X_centered=preprocessing.scale(X)"
      ],
      "metadata": {
        "id": "07VdIBA6-Dhs"
      },
      "execution_count": 9,
      "outputs": []
    },
    {
      "cell_type": "code",
      "source": [
        "y_centered=preprocessing.scale(Y)"
      ],
      "metadata": {
        "id": "EzL0QKOi35Al"
      },
      "execution_count": 10,
      "outputs": []
    },
    {
      "cell_type": "markdown",
      "metadata": {
        "id": "MYx_HMJ11M-p"
      },
      "source": [
        "\n",
        "### Question 2 : \n",
        "- Mettre en lien X et y a l'aide de la regression lineaire multiple avec une penalisation Lasso\n",
        "- A la vue des resultats, quelle variable vous semble liee a 'Disease progression'?\n",
        "- Verifier cette relation en representant des nuages de points mettant en lien les observations de chaque variable avec les observations de 'Disease progression'\n",
        "\n"
      ]
    },
    {
      "cell_type": "code",
      "execution_count": 22,
      "metadata": {
        "colab": {
          "base_uri": "https://localhost:8080/",
          "height": 406
        },
        "id": "2Wwyau-r1M-q",
        "outputId": "eb36a3b1-feb9-41e2-e7d1-a93f49f27e5d"
      },
      "outputs": [
        {
          "output_type": "stream",
          "name": "stderr",
          "text": [
            "/usr/local/lib/python3.7/dist-packages/ipykernel_launcher.py:9: UserWarning: With alpha=0, this algorithm does not converge well. You are advised to use the LinearRegression estimator\n",
            "  if __name__ == '__main__':\n",
            "/usr/local/lib/python3.7/dist-packages/sklearn/linear_model/_coordinate_descent.py:648: UserWarning: Coordinate descent with no regularization may lead to unexpected results and is discouraged.\n",
            "  coef_, l1_reg, l2_reg, X, y, max_iter, tol, rng, random, positive\n",
            "/usr/local/lib/python3.7/dist-packages/sklearn/linear_model/_coordinate_descent.py:648: ConvergenceWarning: Objective did not converge. You might want to increase the number of iterations, check the scale of the features or consider increasing regularisation. Duality gap: 9.971e+00, tolerance: 4.718e-03 Linear regression models with null weight for the l1 regularization term are more efficiently fitted using one of the solvers implemented in sklearn.linear_model.Ridge/RidgeCV instead.\n",
            "  coef_, l1_reg, l2_reg, X, y, max_iter, tol, rng, random, positive\n"
          ]
        },
        {
          "output_type": "execute_result",
          "data": {
            "text/plain": [
              "[<matplotlib.lines.Line2D at 0x7fe1729cee10>]"
            ]
          },
          "metadata": {},
          "execution_count": 22
        },
        {
          "output_type": "display_data",
          "data": {
            "text/plain": [
              "<Figure size 432x288 with 1 Axes>"
            ],
            "image/png": "[encoded data removed]"
          },
          "metadata": {
            "needs_background": "light"
          }
        }
      ],
      "source": [
        "thresh=50\n",
        "alphas=np.linspace(0,1,10)\n",
        "mse=np.zeros(10)\n",
        "for i,alpha in enumerate(alphas) :\n",
        "  X_train,y_train=X_centered[:thresh,:],y_centered[:thresh]\n",
        "  X_test, y_test=X_centered[thresh:,:],y_centered[thresh:]\n",
        "\n",
        "  lasso_regressor=linear_model.Lasso(alpha=alpha)\n",
        "  lasso_regressor.fit(X_train,y_train)\n",
        "  y_pred=lasso_regressor.predict(X_test)\n",
        "  mse[i]=mean_squared_error(y_test,y_pred)\n",
        "\n",
        "fig=plt.figure()\n",
        "plt.plot(alphas,mse)"
      ]
    },
    {
      "cell_type": "code",
      "source": [
        "alphas=\n"
      ],
      "metadata": {
        "id": "M_3Y7SF1Wq6G"
      },
      "execution_count": null,
      "outputs": []
    },
    {
      "cell_type": "code",
      "source": [
        "alphas=np.linspace(0.2,0.3,10)\n",
        "mse=np.zeros(10)\n",
        "for i,alpha in enumerate(alphas) :\n",
        "  X_train,y_train=X_centered[:thresh,:],y_centered[:thresh]\n",
        "  X_test, y_test=X_centered[thresh:,:],y_centered[thresh:]\n",
        "\n",
        "  lasso_regressor=linear_model.Lasso(alpha=alpha)\n",
        "  lasso_regressor.fit(X_train,y_train)\n",
        "  y_pred=lasso_regressor.predict(X_test)\n",
        "  mse[i]=mean_squared_error(y_test,y_pred)\n",
        "\n",
        "fig=plt.figure()\n",
        "plt.plot(alphas,mse)"
      ],
      "metadata": {
        "colab": {
          "base_uri": "https://localhost:8080/",
          "height": 282
        },
        "id": "3uP8t24lVX5S",
        "outputId": "0220ae96-d375-4cab-87da-885002f5ba24"
      },
      "execution_count": 23,
      "outputs": [
        {
          "output_type": "execute_result",
          "data": {
            "text/plain": [
              "[<matplotlib.lines.Line2D at 0x7fe172933710>]"
            ]
          },
          "metadata": {},
          "execution_count": 23
        },
        {
          "output_type": "display_data",
          "data": {
            "text/plain": [
              "<Figure size 432x288 with 1 Axes>"
            ],
            "image/png": "[encoded data removed]"
          },
          "metadata": {
            "needs_background": "light"
          }
        }
      ]
    },
    {
      "cell_type": "code",
      "source": [
        "alpha=0.24\n",
        "X_train,y_train=X_centered[:thresh,:],y_centered[:thresh]\n",
        "X_test, y_test=X_centered[thresh:,:],y_centered[thresh:]\n",
        "\n",
        "lasso_regressor=linear_model.Lasso(alpha=alpha)\n",
        "lasso_regressor.fit(X_train,y_train)\n",
        "lasso_regressor.coef_"
      ],
      "metadata": {
        "colab": {
          "base_uri": "https://localhost:8080/"
        },
        "id": "yT6pHWKLW35T",
        "outputId": "4eaa7964-fa2c-406c-ab5c-52d796b0f125"
      },
      "execution_count": 24,
      "outputs": [
        {
          "output_type": "execute_result",
          "data": {
            "text/plain": [
              "array([ 0.22417575, -0.        , -0.        , -0.        , -0.        ,\n",
              "       -0.        ,  0.        , -0.        , -0.        ,  0.        ,\n",
              "        0.        ,  0.        ,  0.        ,  0.        , -0.        ,\n",
              "       -0.        , -0.0663961 ])"
            ]
          },
          "metadata": {},
          "execution_count": 24
        }
      ]
    }
  ],
  "metadata": {
    "anaconda-cloud": {},
    "kernelspec": {
      "display_name": "Python 3",
      "language": "python",
      "name": "python3"
    },
    "language_info": {
      "codemirror_mode": {
        "name": "ipython",
        "version": 3
      },
      "file_extension": ".py",
      "mimetype": "text/x-python",
      "name": "python",
      "nbconvert_exporter": "python",
      "pygments_lexer": "ipython3",
      "version": "3.8.3"
    },
    "colab": {
      "provenance": []
    }
  },
  "nbformat": 4,
  "nbformat_minor": 0
}